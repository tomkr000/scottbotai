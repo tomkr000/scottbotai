{
 "cells": [
  {
   "cell_type": "code",
   "execution_count": 1,
   "id": "590cd04e-d431-4606-a177-1f3443475d44",
   "metadata": {},
   "outputs": [
    {
     "data": {
      "text/plain": [
       "3011"
      ]
     },
     "execution_count": 1,
     "metadata": {},
     "output_type": "execute_result"
    }
   ],
   "source": [
    "import pandas as pd\n",
    "\n",
    "file = 'FYaTB45.txt'\n",
    "\n",
    "with open(file) as f:\n",
    "    lines = f.readlines()\n",
    "    \n",
    "len(lines)"
   ]
  },
  {
   "cell_type": "code",
   "execution_count": 2,
   "id": "dfba71d3-f27d-4215-aad1-3ce26e781b4f",
   "metadata": {},
   "outputs": [
    {
     "data": {
      "text/plain": [
       "['iMessage \\n',\n",
       " 'Fri, Aug 19, 8:02 AM \\n',\n",
       " 'scotty.madsen@gmail.com \\n',\n",
       " 'Que pasa barrachos?!! \\n',\n",
       " 'Fri, Aug 19, 7:46 PM \\n',\n",
       " 'taylen.peterson+24@gmail.com \\n',\n",
       " '  \\n',\n",
       " '\\n',\n",
       " '1 Reply \\n',\n",
       " 'Am I doing Minnesota right? \\n',\n",
       " 'Litre. Gotta remember, this is Canada Lite\\n',\n",
       " 'Ryan Dalton \\n',\n",
       " '  \\n',\n",
       " 'It makes me nauseous to look at it  \\n',\n",
       " '1 Reply \\n',\n",
       " '1 Reply \\n',\n",
       " 'scotty.madsen@gmail.com \\n',\n",
       " '  \\n',\n",
       " 'Omg I just had a vision about this! \\n',\n",
       " 'It makes me nauseous to look at it  \\n']"
      ]
     },
     "execution_count": 2,
     "metadata": {},
     "output_type": "execute_result"
    }
   ],
   "source": [
    "lines[:20]"
   ]
  },
  {
   "cell_type": "code",
   "execution_count": 4,
   "id": "4c112ed8-b652-452a-beb7-8f7f4587a9df",
   "metadata": {},
   "outputs": [
    {
     "data": {
      "text/plain": [
       "['scotty.madsen@gmail.com',\n",
       " 'Que pasa barrachos?!!',\n",
       " 'taylen.peterson+24@gmail.com',\n",
       " 'Am I doing Minnesota right?',\n",
       " 'Litre. Gotta remember, this is Canada Lite',\n",
       " 'Ryan Dalton',\n",
       " 'It makes me nauseous to look at it',\n",
       " 'scotty.madsen@gmail.com',\n",
       " 'Omg I just had a vision about this!',\n",
       " 'It makes me nauseous to look at it',\n",
       " 'scotty.madsen@gmail.com',\n",
       " 'Good nauseous right?!',\n",
       " 'taylen.peterson+24@gmail.com',\n",
       " 'Good nauseous for sure',\n",
       " 'scotty.madsen@gmail.com',\n",
       " \"Polish prime minister backs Finland's leader in fight for  right to party\",\n",
       " 'scotty.madsen@gmail.com',\n",
       " 'I always considered minnesota armpit of a murica but  ughhh NOLA….',\n",
       " 'taylen.peterson+24@gmail.com',\n",
       " 'New Orleans is the teflon cloaca of America. Checks out']"
      ]
     },
     "execution_count": 4,
     "metadata": {},
     "output_type": "execute_result"
    }
   ],
   "source": [
    "explicit_delete = ['\\n', '  \\n']\n",
    "                   \n",
    "if_found = ['TikTok', 'tiktok.com', 'twitter.com', ':', '1 Reply \\n', '2 Replies',\n",
    "           'reuters.com', 'Terrible Maps', 'defector.com', 'Click to Load Preview', \n",
    "            'GIPHY', 'reddit.com', '3 Replies', 'iMessage']\n",
    "                   \n",
    "cleaned = []\n",
    "    \n",
    "for l in lines:\n",
    "    \n",
    "    add = True\n",
    "    \n",
    "    if l in explicit_delete:\n",
    "        add = False\n",
    "        \n",
    "    for word in if_found:\n",
    "        if word in l:\n",
    "            add = False\n",
    "            \n",
    "    if add:\n",
    "        l = l.replace(\"\\n\", \"\").strip()\n",
    "        cleaned.append(l)\n",
    "        \n",
    "                   \n",
    "cleaned[:20]                   "
   ]
  },
  {
   "cell_type": "code",
   "execution_count": 5,
   "id": "00672dea-6bc6-4d4a-b680-69f34f315054",
   "metadata": {},
   "outputs": [
    {
     "name": "stderr",
     "output_type": "stream",
     "text": [
      "100%|█████████████████████████████████████| 2214/2214 [00:00<00:00, 3288.26it/s]\n"
     ]
    },
    {
     "data": {
      "text/html": [
       "<div>\n",
       "<style scoped>\n",
       "    .dataframe tbody tr th:only-of-type {\n",
       "        vertical-align: middle;\n",
       "    }\n",
       "\n",
       "    .dataframe tbody tr th {\n",
       "        vertical-align: top;\n",
       "    }\n",
       "\n",
       "    .dataframe thead th {\n",
       "        text-align: right;\n",
       "    }\n",
       "</style>\n",
       "<table border=\"1\" class=\"dataframe\">\n",
       "  <thead>\n",
       "    <tr style=\"text-align: right;\">\n",
       "      <th></th>\n",
       "      <th>person</th>\n",
       "      <th>line</th>\n",
       "    </tr>\n",
       "  </thead>\n",
       "  <tbody>\n",
       "    <tr>\n",
       "      <th>0</th>\n",
       "      <td>scotty.madsen@gmail.com</td>\n",
       "      <td>Que pasa barrachos?!!</td>\n",
       "    </tr>\n",
       "    <tr>\n",
       "      <th>1</th>\n",
       "      <td>taylen.peterson+24@gmail.com</td>\n",
       "      <td>Am I doing Minnesota right?</td>\n",
       "    </tr>\n",
       "    <tr>\n",
       "      <th>2</th>\n",
       "      <td>taylen.peterson+24@gmail.com</td>\n",
       "      <td>Litre. Gotta remember, this is Canada Lite</td>\n",
       "    </tr>\n",
       "    <tr>\n",
       "      <th>3</th>\n",
       "      <td>Ryan Dalton</td>\n",
       "      <td>It makes me nauseous to look at it</td>\n",
       "    </tr>\n",
       "    <tr>\n",
       "      <th>4</th>\n",
       "      <td>scotty.madsen@gmail.com</td>\n",
       "      <td>Omg I just had a vision about this!</td>\n",
       "    </tr>\n",
       "    <tr>\n",
       "      <th>...</th>\n",
       "      <td>...</td>\n",
       "      <td>...</td>\n",
       "    </tr>\n",
       "    <tr>\n",
       "      <th>1394</th>\n",
       "      <td>scotty.madsen@gmail.com</td>\n",
       "      <td>Sign this girl will</td>\n",
       "    </tr>\n",
       "    <tr>\n",
       "      <th>1395</th>\n",
       "      <td>Will Dalton</td>\n",
       "      <td>She has to burn all her Lulu first</td>\n",
       "    </tr>\n",
       "    <tr>\n",
       "      <th>1396</th>\n",
       "      <td>taylen.peterson+24@gmail.com</td>\n",
       "      <td>Ummmmm did y’all see the Oregon North Carolina...</td>\n",
       "    </tr>\n",
       "    <tr>\n",
       "      <th>1397</th>\n",
       "      <td>taylen.peterson+24@gmail.com</td>\n",
       "      <td>I will know Gophers football has turned a corn...</td>\n",
       "    </tr>\n",
       "    <tr>\n",
       "      <th>1398</th>\n",
       "      <td>taylen.peterson+24@gmail.com</td>\n",
       "      <td>Pope Emeritus RandBall's Stu</td>\n",
       "    </tr>\n",
       "  </tbody>\n",
       "</table>\n",
       "<p>1399 rows × 2 columns</p>\n",
       "</div>"
      ],
      "text/plain": [
       "                            person  \\\n",
       "0          scotty.madsen@gmail.com   \n",
       "1     taylen.peterson+24@gmail.com   \n",
       "2     taylen.peterson+24@gmail.com   \n",
       "3                      Ryan Dalton   \n",
       "4          scotty.madsen@gmail.com   \n",
       "...                            ...   \n",
       "1394       scotty.madsen@gmail.com   \n",
       "1395                   Will Dalton   \n",
       "1396  taylen.peterson+24@gmail.com   \n",
       "1397  taylen.peterson+24@gmail.com   \n",
       "1398  taylen.peterson+24@gmail.com   \n",
       "\n",
       "                                                   line  \n",
       "0                                 Que pasa barrachos?!!  \n",
       "1                           Am I doing Minnesota right?  \n",
       "2            Litre. Gotta remember, this is Canada Lite  \n",
       "3                    It makes me nauseous to look at it  \n",
       "4                   Omg I just had a vision about this!  \n",
       "...                                                 ...  \n",
       "1394                                Sign this girl will  \n",
       "1395                 She has to burn all her Lulu first  \n",
       "1396  Ummmmm did y’all see the Oregon North Carolina...  \n",
       "1397  I will know Gophers football has turned a corn...  \n",
       "1398                       Pope Emeritus RandBall's Stu  \n",
       "\n",
       "[1399 rows x 2 columns]"
      ]
     },
     "execution_count": 5,
     "metadata": {},
     "output_type": "execute_result"
    }
   ],
   "source": [
    "import warnings\n",
    "warnings.simplefilter(action='ignore', category=FutureWarning)\n",
    "from tqdm import tqdm\n",
    "\n",
    "peeps = {'scotty.madsen@gmail.com': 'scott', \n",
    "         'Ryan Dalton': 'rye',\n",
    "         'taylen.peterson+24@gmail.com': 'tater',\n",
    "         'Will Dalton': 'will'\n",
    "        }\n",
    "\n",
    "df = pd.DataFrame(columns=['person', 'line'])\n",
    "\n",
    "person = 'scotty.madsen@gmail.com'\n",
    "comment = False\n",
    "\n",
    "for line in tqdm(cleaned):\n",
    "    \n",
    "    comment = True\n",
    "    for peep in peeps.keys():\n",
    "        # print(peep)\n",
    "        if peep in line:\n",
    "            \n",
    "            person = peep\n",
    "            comment = False\n",
    "            \n",
    "    if comment:\n",
    "        df = df.append({'person': person, 'line': line}, ignore_index=True)\n",
    "            \n",
    "df\n",
    "    "
   ]
  },
  {
   "cell_type": "code",
   "execution_count": 6,
   "id": "84a8c202-8905-4fe2-9c1c-f5257d8ab7a9",
   "metadata": {},
   "outputs": [
    {
     "data": {
      "text/html": [
       "<div>\n",
       "<style scoped>\n",
       "    .dataframe tbody tr th:only-of-type {\n",
       "        vertical-align: middle;\n",
       "    }\n",
       "\n",
       "    .dataframe tbody tr th {\n",
       "        vertical-align: top;\n",
       "    }\n",
       "\n",
       "    .dataframe thead th {\n",
       "        text-align: right;\n",
       "    }\n",
       "</style>\n",
       "<table border=\"1\" class=\"dataframe\">\n",
       "  <thead>\n",
       "    <tr style=\"text-align: right;\">\n",
       "      <th></th>\n",
       "      <th>response</th>\n",
       "      <th>context</th>\n",
       "      <th>context/0</th>\n",
       "      <th>context/1</th>\n",
       "      <th>context/2</th>\n",
       "      <th>context/3</th>\n",
       "      <th>context/4</th>\n",
       "      <th>context/5</th>\n",
       "    </tr>\n",
       "  </thead>\n",
       "  <tbody>\n",
       "    <tr>\n",
       "      <th>0</th>\n",
       "      <td>Polish prime minister backs Finland's leader i...</td>\n",
       "      <td>Good nauseous for sure</td>\n",
       "      <td>Good nauseous right?!</td>\n",
       "      <td>It makes me nauseous to look at it</td>\n",
       "      <td>Omg I just had a vision about this!</td>\n",
       "      <td>It makes me nauseous to look at it</td>\n",
       "      <td>Litre. Gotta remember, this is Canada Lite</td>\n",
       "      <td>Am I doing Minnesota right?</td>\n",
       "    </tr>\n",
       "    <tr>\n",
       "      <th>1</th>\n",
       "      <td>I always considered minnesota armpit of a muri...</td>\n",
       "      <td>Polish prime minister backs Finland's leader i...</td>\n",
       "      <td>Good nauseous for sure</td>\n",
       "      <td>Good nauseous right?!</td>\n",
       "      <td>It makes me nauseous to look at it</td>\n",
       "      <td>Omg I just had a vision about this!</td>\n",
       "      <td>It makes me nauseous to look at it</td>\n",
       "      <td>Litre. Gotta remember, this is Canada Lite</td>\n",
       "    </tr>\n",
       "    <tr>\n",
       "      <th>2</th>\n",
       "      <td>I couldn’t agree more, but nope. Doesn’t ring ...</td>\n",
       "      <td>Anyone know what this sport is? Seems like it ...</td>\n",
       "      <td>New Orleans is the teflon cloaca of America. C...</td>\n",
       "      <td>I always considered minnesota armpit of a muri...</td>\n",
       "      <td>Polish prime minister backs Finland's leader i...</td>\n",
       "      <td>Good nauseous for sure</td>\n",
       "      <td>Good nauseous right?!</td>\n",
       "      <td>It makes me nauseous to look at it</td>\n",
       "    </tr>\n",
       "    <tr>\n",
       "      <th>3</th>\n",
       "      <td>Will you know I can't click the link! Have you...</td>\n",
       "      <td>I think I get why Taylen found himself a Calif...</td>\n",
       "      <td>Crazy that the laser bison beat the fire horsi...</td>\n",
       "      <td>I couldn’t agree more, but nope. Doesn’t ring ...</td>\n",
       "      <td>Anyone know what this sport is? Seems like it ...</td>\n",
       "      <td>New Orleans is the teflon cloaca of America. C...</td>\n",
       "      <td>I always considered minnesota armpit of a muri...</td>\n",
       "      <td>Polish prime minister backs Finland's leader i...</td>\n",
       "    </tr>\n",
       "    <tr>\n",
       "      <th>4</th>\n",
       "      <td>Ha lol God damn I don't even know Vanessa that...</td>\n",
       "      <td>10,000%</td>\n",
       "      <td>Vanessa shared this with me</td>\n",
       "      <td>Proof that you’re not ugly, you’re just poor</td>\n",
       "      <td>now is sexy again. tbf I blame his barber</td>\n",
       "      <td>I feel like TB12 is one of those guys that was...</td>\n",
       "      <td>Scott, time for you to get on this trend</td>\n",
       "      <td>Will you know I can't click the link! Have you...</td>\n",
       "    </tr>\n",
       "  </tbody>\n",
       "</table>\n",
       "</div>"
      ],
      "text/plain": [
       "                                            response  \\\n",
       "0  Polish prime minister backs Finland's leader i...   \n",
       "1  I always considered minnesota armpit of a muri...   \n",
       "2  I couldn’t agree more, but nope. Doesn’t ring ...   \n",
       "3  Will you know I can't click the link! Have you...   \n",
       "4  Ha lol God damn I don't even know Vanessa that...   \n",
       "\n",
       "                                             context  \\\n",
       "0                             Good nauseous for sure   \n",
       "1  Polish prime minister backs Finland's leader i...   \n",
       "2  Anyone know what this sport is? Seems like it ...   \n",
       "3  I think I get why Taylen found himself a Calif...   \n",
       "4                                            10,000%   \n",
       "\n",
       "                                           context/0  \\\n",
       "0                              Good nauseous right?!   \n",
       "1                             Good nauseous for sure   \n",
       "2  New Orleans is the teflon cloaca of America. C...   \n",
       "3  Crazy that the laser bison beat the fire horsi...   \n",
       "4                        Vanessa shared this with me   \n",
       "\n",
       "                                           context/1  \\\n",
       "0                 It makes me nauseous to look at it   \n",
       "1                              Good nauseous right?!   \n",
       "2  I always considered minnesota armpit of a muri...   \n",
       "3  I couldn’t agree more, but nope. Doesn’t ring ...   \n",
       "4       Proof that you’re not ugly, you’re just poor   \n",
       "\n",
       "                                           context/2  \\\n",
       "0                Omg I just had a vision about this!   \n",
       "1                 It makes me nauseous to look at it   \n",
       "2  Polish prime minister backs Finland's leader i...   \n",
       "3  Anyone know what this sport is? Seems like it ...   \n",
       "4          now is sexy again. tbf I blame his barber   \n",
       "\n",
       "                                           context/3  \\\n",
       "0                 It makes me nauseous to look at it   \n",
       "1                Omg I just had a vision about this!   \n",
       "2                             Good nauseous for sure   \n",
       "3  New Orleans is the teflon cloaca of America. C...   \n",
       "4  I feel like TB12 is one of those guys that was...   \n",
       "\n",
       "                                           context/4  \\\n",
       "0         Litre. Gotta remember, this is Canada Lite   \n",
       "1                 It makes me nauseous to look at it   \n",
       "2                              Good nauseous right?!   \n",
       "3  I always considered minnesota armpit of a muri...   \n",
       "4           Scott, time for you to get on this trend   \n",
       "\n",
       "                                           context/5  \n",
       "0                        Am I doing Minnesota right?  \n",
       "1         Litre. Gotta remember, this is Canada Lite  \n",
       "2                 It makes me nauseous to look at it  \n",
       "3  Polish prime minister backs Finland's leader i...  \n",
       "4  Will you know I can't click the link! Have you...  "
      ]
     },
     "execution_count": 6,
     "metadata": {},
     "output_type": "execute_result"
    }
   ],
   "source": [
    "contexted = []\n",
    "\n",
    "n = 7\n",
    "\n",
    "for i in range(n, len(df['line'])):\n",
    "    if df['person'].iloc[i] == 'scotty.madsen@gmail.com':\n",
    "        row = []\n",
    "        prev = i - 1 - n # we additionally substract 1, so row will contain current responce and 7 previous responces  \n",
    "        for j in range(i, prev, -1):\n",
    "            row.append(df['line'][j])\n",
    "        contexted.append(row) \n",
    "        \n",
    "columns = ['response', 'context'] \n",
    "columns = columns + ['context/'+str(i) for i in range(n-1)]\n",
    "\n",
    "df = pd.DataFrame.from_records(contexted, columns=columns)\n",
    "df.head(5)"
   ]
  },
  {
   "cell_type": "code",
   "execution_count": 7,
   "id": "8735fb66-3ce0-4ebc-8e7c-84055a06a447",
   "metadata": {},
   "outputs": [],
   "source": [
    "# Args to allow for easy convertion of python script to notebook\n",
    "class Args():\n",
    "    def __init__(self):\n",
    "        self.output_dir = 'output-small'\n",
    "        self.model_type = 'gpt2'\n",
    "        self.model_name_or_path = 'microsoft/DialoGPT-small'\n",
    "        self.config_name = 'microsoft/DialoGPT-small'\n",
    "        self.tokenizer_name = 'microsoft/DialoGPT-small'\n",
    "        self.cache_dir = 'cached'\n",
    "        self.block_size = 512\n",
    "        self.do_train = True\n",
    "        self.do_eval = True\n",
    "        self.evaluate_during_training = False\n",
    "        self.per_gpu_train_batch_size = 4\n",
    "        self.per_gpu_eval_batch_size = 4\n",
    "        self.gradient_accumulation_steps = 1\n",
    "        self.learning_rate = 5e-5\n",
    "        self.weight_decay = 0.0\n",
    "        self.adam_epsilon = 1e-8\n",
    "        self.max_grad_norm = 1.0\n",
    "        self.num_train_epochs = 3\n",
    "        self.max_steps = -1\n",
    "        self.warmup_steps = 0\n",
    "        self.logging_steps = 1000\n",
    "        self.save_steps = 3500\n",
    "        self.save_total_limit = None\n",
    "        self.eval_all_checkpoints = False\n",
    "        self.no_cuda = False\n",
    "        self.overwrite_output_dir = True\n",
    "        self.overwrite_cache = True\n",
    "        self.should_continue = False\n",
    "        self.seed = 42\n",
    "        self.local_rank = -1\n",
    "        self.fp16 = False\n",
    "        self.fp16_opt_level = 'O1'\n",
    "\n",
    "args = Args()\n"
   ]
  },
  {
   "cell_type": "code",
   "execution_count": 15,
   "id": "b3d548bd-a35d-4fcb-8c31-00cc89c8342a",
   "metadata": {},
   "outputs": [],
   "source": [
    "# Cacheing and storing of data/checkpoints\n",
    "\n",
    "def load_and_cache_examples(args, tokenizer, df_trn, df_val, evaluate=False):\n",
    "    return ConversationDataset(tokenizer, args, df_val if evaluate else df_trn)\n",
    "\n",
    "\n",
    "def set_seed(args):\n",
    "    random.seed(args.seed)\n",
    "    np.random.seed(args.seed)\n",
    "    torch.manual_seed(args.seed)\n",
    "    if args.n_gpu > 0:\n",
    "        torch.cuda.manual_seed_all(args.seed)\n",
    "\n",
    "\n",
    "def _sorted_checkpoints(args, checkpoint_prefix=\"checkpoint\", use_mtime=False) -> List[str]:\n",
    "    ordering_and_checkpoint_path = []\n",
    "\n",
    "    glob_checkpoints = glob.glob(os.path.join(args.output_dir, \"{}-*\".format(checkpoint_prefix)))\n",
    "\n",
    "    for path in glob_checkpoints:\n",
    "        if use_mtime:\n",
    "            ordering_and_checkpoint_path.append((os.path.getmtime(path), path))\n",
    "        else:\n",
    "            regex_match = re.match(\".*{}-([0-9]+)\".format(checkpoint_prefix), path)\n",
    "            if regex_match and regex_match.groups():\n",
    "                ordering_and_checkpoint_path.append((int(regex_match.groups()[0]), path))\n",
    "\n",
    "    checkpoints_sorted = sorted(ordering_and_checkpoint_path)\n",
    "    checkpoints_sorted = [checkpoint[1] for checkpoint in checkpoints_sorted]\n",
    "    return checkpoints_sorted\n",
    "\n",
    "\n",
    "def _rotate_checkpoints(args, checkpoint_prefix=\"checkpoint\", use_mtime=False) -> None:\n",
    "    if not args.save_total_limit:\n",
    "        return\n",
    "    if args.save_total_limit <= 0:\n",
    "        return\n",
    "\n",
    "    # Check if we should delete older checkpoint(s)\n",
    "    checkpoints_sorted = _sorted_checkpoints(args, checkpoint_prefix, use_mtime)\n",
    "    if len(checkpoints_sorted) <= args.save_total_limit:\n",
    "        return\n",
    "\n",
    "    number_of_checkpoints_to_delete = max(0, len(checkpoints_sorted) - args.save_total_limit)\n",
    "    checkpoints_to_be_deleted = checkpoints_sorted[:number_of_checkpoints_to_delete]\n",
    "    for checkpoint in checkpoints_to_be_deleted:\n",
    "        logger.info(\"Deleting older checkpoint [{}] due to args.save_total_limit\".format(checkpoint))\n",
    "        shutil.rmtree(checkpoint)"
   ]
  },
  {
   "cell_type": "code",
   "execution_count": 8,
   "id": "2f8a6367-6319-4f29-a88f-cae87bea74bc",
   "metadata": {},
   "outputs": [],
   "source": [
    "from transformers import AutoModelWithLMHead, AutoTokenizer\n",
    "import torch\n",
    "\n",
    "tokenizer = AutoTokenizer.from_pretrained(\"microsoft/DialoGPT-small\")\n",
    "model = AutoModelWithLMHead.from_pretrained(\"microsoft/DialoGPT-small\")\n",
    "\n",
    "\n",
    "\"\"\"\n",
    "Fine-tuning the library models for language modeling on a text file (GPT, GPT-2, BERT, RoBERTa).\n",
    "GPT and GPT-2 are fine-tuned using a causal language modeling (CLM) loss while BERT and RoBERTa are fine-tuned\n",
    "using a masked language modeling (MLM) loss.\n",
    "\"\"\"\n",
    "\n",
    "import glob\n",
    "import logging\n",
    "import os\n",
    "import pickle\n",
    "import random\n",
    "import re\n",
    "import shutil\n",
    "from typing import Dict, List, Tuple\n",
    "\n",
    "import pandas as pd\n",
    "import numpy as np\n",
    "import torch\n",
    "\n",
    "from sklearn.model_selection import train_test_split\n",
    "\n",
    "from torch.nn.utils.rnn import pad_sequence\n",
    "from torch.utils.data import DataLoader, Dataset, RandomSampler, SequentialSampler\n",
    "from torch.utils.data.distributed import DistributedSampler\n",
    "from tqdm.notebook import tqdm, trange\n",
    "\n",
    "from pathlib import Path\n",
    "\n",
    "from transformers import (\n",
    "    MODEL_WITH_LM_HEAD_MAPPING,\n",
    "    WEIGHTS_NAME,\n",
    "    AdamW,\n",
    "    AutoConfig,\n",
    "    AutoModelWithLMHead,\n",
    "    AutoTokenizer,\n",
    "    PreTrainedModel,\n",
    "    PreTrainedTokenizer,\n",
    "    get_linear_schedule_with_warmup,\n",
    ")\n",
    "\n",
    "\n",
    "try:\n",
    "    from torch.utils.tensorboard import SummaryWriter\n",
    "except ImportError:\n",
    "    from tensorboardX import SummaryWriter\n",
    "\n",
    "# Configs\n",
    "logger = logging.getLogger(__name__)\n",
    "\n",
    "MODEL_CONFIG_CLASSES = list(MODEL_WITH_LM_HEAD_MAPPING.keys())\n",
    "MODEL_TYPES = tuple(conf.model_type for conf in MODEL_CONFIG_CLASSES)"
   ]
  },
  {
   "cell_type": "code",
   "execution_count": 9,
   "id": "a10749d9-f3e8-4e57-ae98-0d7352782412",
   "metadata": {},
   "outputs": [],
   "source": [
    "def construct_conv(row, tokenizer, eos = True):\n",
    "    flatten = lambda l: [item for sublist in l for item in sublist]\n",
    "    conv = list(reversed([tokenizer.encode(x) + [tokenizer.eos_token_id] for x in row]))\n",
    "    conv = flatten(conv)\n",
    "    return conv\n",
    "\n",
    "class ConversationDataset(Dataset):\n",
    "    def __init__(self, tokenizer: PreTrainedTokenizer, args, df, block_size=512):\n",
    "\n",
    "        block_size = block_size - (tokenizer.model_max_length - tokenizer.max_len_single_sentence)\n",
    "\n",
    "        directory = args.cache_dir\n",
    "        cached_features_file = os.path.join(\n",
    "            directory, args.model_type + \"_cached_lm_\" + str(block_size)\n",
    "        )\n",
    "\n",
    "        if os.path.exists(cached_features_file) and not args.overwrite_cache:\n",
    "            logger.info(\"Loading features from cached file %s\", cached_features_file)\n",
    "            with open(cached_features_file, \"rb\") as handle:\n",
    "                self.examples = pickle.load(handle)\n",
    "        else:\n",
    "            logger.info(\"Creating features from dataset file at %s\", directory)\n",
    "\n",
    "            self.examples = []\n",
    "            for _, row in df.iterrows():\n",
    "                conv = construct_conv(row, tokenizer)\n",
    "                self.examples.append(conv)\n",
    "\n",
    "            logger.info(\"Saving features into cached file %s\", cached_features_file)\n",
    "            with open(cached_features_file, \"wb\") as handle:\n",
    "                pickle.dump(self.examples, handle, protocol=pickle.HIGHEST_PROTOCOL)\n",
    "\n",
    "    def __len__(self):\n",
    "        return len(self.examples)\n",
    "\n",
    "    def __getitem__(self, item):\n",
    "        return torch.tensor(self.examples[item], dtype=torch.long)"
   ]
  },
  {
   "cell_type": "code",
   "execution_count": 10,
   "id": "6516ba59-40cc-4242-8195-0d15755a64a3",
   "metadata": {},
   "outputs": [],
   "source": [
    "def construct_conv(row, tokenizer, eos = True):\n",
    "    flatten = lambda l: [item for sublist in l for item in sublist]\n",
    "    conv = list(reversed([tokenizer.encode(x) + [tokenizer.eos_token_id] for x in row]))\n",
    "    conv = flatten(conv)\n",
    "    return conv\n",
    "\n",
    "class ConversationDataset(Dataset):\n",
    "    def __init__(self, tokenizer: PreTrainedTokenizer, args, df, block_size=512):\n",
    "\n",
    "        block_size = block_size - (tokenizer.model_max_length - tokenizer.max_len_single_sentence)\n",
    "\n",
    "        directory = args.cache_dir\n",
    "        cached_features_file = os.path.join(\n",
    "            directory, args.model_type + \"_cached_lm_\" + str(block_size)\n",
    "        )\n",
    "\n",
    "        if os.path.exists(cached_features_file) and not args.overwrite_cache:\n",
    "            logger.info(\"Loading features from cached file %s\", cached_features_file)\n",
    "            with open(cached_features_file, \"rb\") as handle:\n",
    "                self.examples = pickle.load(handle)\n",
    "        else:\n",
    "            logger.info(\"Creating features from dataset file at %s\", directory)\n",
    "\n",
    "            self.examples = []\n",
    "            for _, row in df.iterrows():\n",
    "                conv = construct_conv(row, tokenizer)\n",
    "                self.examples.append(conv)\n",
    "\n",
    "            logger.info(\"Saving features into cached file %s\", cached_features_file)\n",
    "            with open(cached_features_file, \"wb\") as handle:\n",
    "                pickle.dump(self.examples, handle, protocol=pickle.HIGHEST_PROTOCOL)\n",
    "\n",
    "    def __len__(self):\n",
    "        return len(self.examples)\n",
    "\n",
    "    def __getitem__(self, item):\n",
    "        return torch.tensor(self.examples[item], dtype=torch.long)"
   ]
  },
  {
   "cell_type": "code",
   "execution_count": 11,
   "id": "02b412fa-729b-46e6-a6f8-4585dbf329ac",
   "metadata": {},
   "outputs": [],
   "source": [
    "def train(args, train_dataset, model: PreTrainedModel, tokenizer: PreTrainedTokenizer) -> Tuple[int, float]:\n",
    "    \"\"\" Train the model \"\"\"\n",
    "    if args.local_rank in [-1, 0]:\n",
    "        tb_writer = SummaryWriter()\n",
    "\n",
    "    args.train_batch_size = args.per_gpu_train_batch_size * max(1, args.n_gpu)\n",
    "\n",
    "    def collate(examples: List[torch.Tensor]):\n",
    "        if tokenizer._pad_token is None:\n",
    "            return pad_sequence(examples, batch_first=True)\n",
    "        return pad_sequence(examples, batch_first=True, padding_value=tokenizer.pad_token_id)\n",
    "\n",
    "    train_sampler = RandomSampler(train_dataset) if args.local_rank == -1 else DistributedSampler(train_dataset)\n",
    "    train_dataloader = DataLoader(\n",
    "        train_dataset, sampler=train_sampler, batch_size=args.train_batch_size, collate_fn=collate, drop_last = True\n",
    "    )\n",
    "\n",
    "    if args.max_steps > 0:\n",
    "        t_total = args.max_steps\n",
    "        args.num_train_epochs = args.max_steps // (len(train_dataloader) // args.gradient_accumulation_steps) + 1\n",
    "    else:\n",
    "        t_total = len(train_dataloader) // args.gradient_accumulation_steps * args.num_train_epochs\n",
    "\n",
    "    model = model.module if hasattr(model, \"module\") else model  # Take care of distributed/parallel training\n",
    "    model.resize_token_embeddings(len(tokenizer))\n",
    "    # add_special_tokens_(model, tokenizer)\n",
    "\n",
    "\n",
    "    # Prepare optimizer and schedule (linear warmup and decay)\n",
    "    no_decay = [\"bias\", \"LayerNorm.weight\"]\n",
    "    optimizer_grouped_parameters = [\n",
    "        {\n",
    "            \"params\": [p for n, p in model.named_parameters() if not any(nd in n for nd in no_decay)],\n",
    "            \"weight_decay\": args.weight_decay,\n",
    "        },\n",
    "        {\"params\": [p for n, p in model.named_parameters() if any(nd in n for nd in no_decay)], \"weight_decay\": 0.0},\n",
    "    ]\n",
    "    optimizer = AdamW(optimizer_grouped_parameters, lr=args.learning_rate, eps=args.adam_epsilon)\n",
    "    scheduler = get_linear_schedule_with_warmup(\n",
    "        optimizer, num_warmup_steps=args.warmup_steps, num_training_steps=t_total\n",
    "    )\n",
    "\n",
    "    # Check if saved optimizer or scheduler states exist\n",
    "    if (\n",
    "        args.model_name_or_path\n",
    "        and os.path.isfile(os.path.join(args.model_name_or_path, \"optimizer.pt\"))\n",
    "        and os.path.isfile(os.path.join(args.model_name_or_path, \"scheduler.pt\"))\n",
    "    ):\n",
    "        # Load in optimizer and scheduler states\n",
    "        optimizer.load_state_dict(torch.load(os.path.join(args.model_name_or_path, \"optimizer.pt\")))\n",
    "        scheduler.load_state_dict(torch.load(os.path.join(args.model_name_or_path, \"scheduler.pt\")))\n",
    "\n",
    "    if args.fp16:\n",
    "        try:\n",
    "            from apex import amp\n",
    "        except ImportError:\n",
    "            raise ImportError(\"Please install apex from https://www.github.com/nvidia/apex to use fp16 training.\")\n",
    "        model, optimizer = amp.initialize(model, optimizer, opt_level=args.fp16_opt_level)\n",
    "\n",
    "    # multi-gpu training (should be after apex fp16 initialization)\n",
    "    if args.n_gpu > 1:\n",
    "        model = torch.nn.DataParallel(model)\n",
    "\n",
    "    # Distributed training (should be after apex fp16 initialization)\n",
    "    if args.local_rank != -1:\n",
    "        model = torch.nn.parallel.DistributedDataParallel(\n",
    "            model, device_ids=[args.local_rank], output_device=args.local_rank, find_unused_parameters=True\n",
    "        )\n",
    "\n",
    "    # Train!\n",
    "    logger.info(\"***** Running training *****\")\n",
    "    logger.info(\"  Num examples = %d\", len(train_dataset))\n",
    "    logger.info(\"  Num Epochs = %d\", args.num_train_epochs)\n",
    "    logger.info(\"  Instantaneous batch size per GPU = %d\", args.per_gpu_train_batch_size)\n",
    "    logger.info(\n",
    "        \"  Total train batch size (w. parallel, distributed & accumulation) = %d\",\n",
    "        args.train_batch_size\n",
    "        * args.gradient_accumulation_steps\n",
    "        * (torch.distributed.get_world_size() if args.local_rank != -1 else 1),\n",
    "    )\n",
    "    logger.info(\"  Gradient Accumulation steps = %d\", args.gradient_accumulation_steps)\n",
    "    logger.info(\"  Total optimization steps = %d\", t_total)\n",
    "\n",
    "    global_step = 0\n",
    "    epochs_trained = 0\n",
    "    steps_trained_in_current_epoch = 0\n",
    "    # Check if continuing training from a checkpoint\n",
    "    if args.model_name_or_path and os.path.exists(args.model_name_or_path):\n",
    "        try:\n",
    "            # set global_step to gobal_step of last saved checkpoint from model path\n",
    "            checkpoint_suffix = args.model_name_or_path.split(\"-\")[-1].split(\"/\")[0]\n",
    "            global_step = int(checkpoint_suffix)\n",
    "            epochs_trained = global_step // (len(train_dataloader) // args.gradient_accumulation_steps)\n",
    "            steps_trained_in_current_epoch = global_step % (len(train_dataloader) // args.gradient_accumulation_steps)\n",
    "\n",
    "            logger.info(\"  Continuing training from checkpoint, will skip to saved global_step\")\n",
    "            logger.info(\"  Continuing training from epoch %d\", epochs_trained)\n",
    "            logger.info(\"  Continuing training from global step %d\", global_step)\n",
    "            logger.info(\"  Will skip the first %d steps in the first epoch\", steps_trained_in_current_epoch)\n",
    "        except ValueError:\n",
    "            logger.info(\"  Starting fine-tuning.\")\n",
    "\n",
    "    tr_loss, logging_loss = 0.0, 0.0\n",
    "\n",
    "    model.zero_grad()\n",
    "    train_iterator = trange(\n",
    "        epochs_trained, int(args.num_train_epochs), desc=\"Epoch\", disable=args.local_rank not in [-1, 0]\n",
    "    )\n",
    "    set_seed(args)  # Added here for reproducibility\n",
    "    for _ in train_iterator:\n",
    "        epoch_iterator = tqdm(train_dataloader, desc=\"Iteration\", disable=args.local_rank not in [-1, 0])\n",
    "        for step, batch in enumerate(epoch_iterator):\n",
    "\n",
    "            # Skip past any already trained steps if resuming training\n",
    "            if steps_trained_in_current_epoch > 0:\n",
    "                steps_trained_in_current_epoch -= 1\n",
    "                continue\n",
    "\n",
    "            inputs, labels = (batch, batch)\n",
    "            if inputs.shape[1] > 1024: continue\n",
    "            inputs = inputs.to(args.device)\n",
    "            labels = labels.to(args.device)\n",
    "            model.train()\n",
    "            outputs = model(inputs, labels=labels)\n",
    "            loss = outputs[0]  # model outputs are always tuple in transformers (see doc)\n",
    "\n",
    "            if args.n_gpu > 1:\n",
    "                loss = loss.mean()  # mean() to average on multi-gpu parallel training\n",
    "            if args.gradient_accumulation_steps > 1:\n",
    "                loss = loss / args.gradient_accumulation_steps\n",
    "\n",
    "            if args.fp16:\n",
    "                with amp.scale_loss(loss, optimizer) as scaled_loss:\n",
    "                    scaled_loss.backward()\n",
    "            else:\n",
    "                loss.backward()\n",
    "\n",
    "            tr_loss += loss.item()\n",
    "            if (step + 1) % args.gradient_accumulation_steps == 0:\n",
    "                if args.fp16:\n",
    "                    torch.nn.utils.clip_grad_norm_(amp.master_params(optimizer), args.max_grad_norm)\n",
    "                else:\n",
    "                    torch.nn.utils.clip_grad_norm_(model.parameters(), args.max_grad_norm)\n",
    "                optimizer.step()\n",
    "                scheduler.step()  # Update learning rate schedule\n",
    "                model.zero_grad()\n",
    "                global_step += 1\n",
    "\n",
    "                if args.local_rank in [-1, 0] and args.logging_steps > 0 and global_step % args.logging_steps == 0:\n",
    "                    # Log metrics\n",
    "                    if (\n",
    "                        args.local_rank == -1 and args.evaluate_during_training\n",
    "                    ):  # Only evaluate when single GPU otherwise metrics may not average well\n",
    "                        results = evaluate(args, model, tokenizer)\n",
    "                        for key, value in results.items():\n",
    "                            tb_writer.add_scalar(\"eval_{}\".format(key), value, global_step)\n",
    "                    tb_writer.add_scalar(\"lr\", scheduler.get_lr()[0], global_step)\n",
    "                    tb_writer.add_scalar(\"loss\", (tr_loss - logging_loss) / args.logging_steps, global_step)\n",
    "                    logging_loss = tr_loss\n",
    "\n",
    "                if args.local_rank in [-1, 0] and args.save_steps > 0 and global_step % args.save_steps == 0:\n",
    "                    checkpoint_prefix = \"checkpoint\"\n",
    "                    # Save model checkpoint\n",
    "                    output_dir = os.path.join(args.output_dir, \"{}-{}\".format(checkpoint_prefix, global_step))\n",
    "                    os.makedirs(output_dir, exist_ok=True)\n",
    "                    model_to_save = (\n",
    "                        model.module if hasattr(model, \"module\") else model\n",
    "                    )  # Take care of distributed/parallel training\n",
    "                    model_to_save.save_pretrained(output_dir)\n",
    "                    tokenizer.save_pretrained(output_dir)\n",
    "\n",
    "                    torch.save(args, os.path.join(output_dir, \"training_args.bin\"))\n",
    "                    logger.info(\"Saving model checkpoint to %s\", output_dir)\n",
    "\n",
    "                    _rotate_checkpoints(args, checkpoint_prefix)\n",
    "\n",
    "                    torch.save(optimizer.state_dict(), os.path.join(output_dir, \"optimizer.pt\"))\n",
    "                    torch.save(scheduler.state_dict(), os.path.join(output_dir, \"scheduler.pt\"))\n",
    "                    logger.info(\"Saving optimizer and scheduler states to %s\", output_dir)\n",
    "\n",
    "            if args.max_steps > 0 and global_step > args.max_steps:\n",
    "                epoch_iterator.close()\n",
    "                break\n",
    "        if args.max_steps > 0 and global_step > args.max_steps:\n",
    "            train_iterator.close()\n",
    "            break\n",
    "\n",
    "    if args.local_rank in [-1, 0]:\n",
    "        tb_writer.close()\n",
    "\n",
    "    return global_step, tr_loss / global_step\n",
    "\n",
    "# Evaluation of some model\n",
    "\n",
    "def evaluate(args, model: PreTrainedModel, tokenizer: PreTrainedTokenizer, df_trn, df_val, prefix=\"\") -> Dict:\n",
    "    # Loop to handle MNLI double evaluation (matched, mis-matched)\n",
    "    eval_output_dir = args.output_dir\n",
    "\n",
    "    eval_dataset = load_and_cache_examples(args, tokenizer, df_trn, df_val, evaluate=True)\n",
    "    os.makedirs(eval_output_dir, exist_ok=True)\n",
    "    args.eval_batch_size = args.per_gpu_eval_batch_size * max(1, args.n_gpu)\n",
    "    # Note that DistributedSampler samples randomly\n",
    "\n",
    "    def collate(examples: List[torch.Tensor]):\n",
    "        if tokenizer._pad_token is None:\n",
    "            return pad_sequence(examples, batch_first=True)\n",
    "        return pad_sequence(examples, batch_first=True, padding_value=tokenizer.pad_token_id)\n",
    "\n",
    "    eval_sampler = SequentialSampler(eval_dataset)\n",
    "    eval_dataloader = DataLoader(\n",
    "        eval_dataset, sampler=eval_sampler, batch_size=args.eval_batch_size, collate_fn=collate, drop_last = True\n",
    "    )\n",
    "\n",
    "    # multi-gpu evaluate\n",
    "    if args.n_gpu > 1:\n",
    "        model = torch.nn.DataParallel(model)\n",
    "\n",
    "    # Eval!\n",
    "    logger.info(\"***** Running evaluation {} *****\".format(prefix))\n",
    "    logger.info(\"  Num examples = %d\", len(eval_dataset))\n",
    "    logger.info(\"  Batch size = %d\", args.eval_batch_size)\n",
    "    eval_loss = 0.0\n",
    "    nb_eval_steps = 0\n",
    "    model.eval()\n",
    "\n",
    "    for batch in tqdm(eval_dataloader, desc=\"Evaluating\"):\n",
    "        inputs, labels = (batch, batch)\n",
    "        inputs = inputs.to(args.device)\n",
    "        labels = labels.to(args.device)\n",
    "\n",
    "        with torch.no_grad():\n",
    "            outputs = model(inputs, labels=labels)\n",
    "            lm_loss = outputs[0]\n",
    "            eval_loss += lm_loss.mean().item()\n",
    "        nb_eval_steps += 1\n",
    "\n",
    "    eval_loss = eval_loss / nb_eval_steps\n",
    "    perplexity = torch.exp(torch.tensor(eval_loss))\n",
    "\n",
    "    result = {\"perplexity\": perplexity}\n",
    "\n",
    "    output_eval_file = os.path.join(eval_output_dir, prefix, \"eval_results.txt\")\n",
    "    with open(output_eval_file, \"w\") as writer:\n",
    "        logger.info(\"***** Eval results {} *****\".format(prefix))\n",
    "        for key in sorted(result.keys()):\n",
    "            logger.info(\"  %s = %s\", key, str(result[key]))\n",
    "            writer.write(\"%s = %s\\n\" % (key, str(result[key])))\n",
    "\n",
    "    return result"
   ]
  },
  {
   "cell_type": "code",
   "execution_count": 12,
   "id": "b84c2e01-0957-4064-a0e9-db78f7da7e2f",
   "metadata": {},
   "outputs": [],
   "source": [
    "# Main runner\n",
    "\n",
    "def main(df_trn, df_val):\n",
    "    args = Args()\n",
    "    \n",
    "    if args.should_continue:\n",
    "        sorted_checkpoints = _sorted_checkpoints(args)\n",
    "        if len(sorted_checkpoints) == 0:\n",
    "            raise ValueError(\"Used --should_continue but no checkpoint was found in --output_dir.\")\n",
    "        else:\n",
    "            args.model_name_or_path = sorted_checkpoints[-1]\n",
    "\n",
    "    if (\n",
    "        os.path.exists(args.output_dir)\n",
    "        and os.listdir(args.output_dir)\n",
    "        and args.do_train\n",
    "        and not args.overwrite_output_dir\n",
    "        and not args.should_continue\n",
    "    ):\n",
    "        raise ValueError(\n",
    "            \"Output directory ({}) already exists and is not empty. Use --overwrite_output_dir to overcome.\".format(\n",
    "                args.output_dir\n",
    "            )\n",
    "        )\n",
    "\n",
    "    # Setup CUDA, GPU & distributed training\n",
    "    device = torch.device(\"cuda\")\n",
    "    args.n_gpu = torch.cuda.device_count()\n",
    "    args.device = device\n",
    "\n",
    "    # Setup logging\n",
    "    logging.basicConfig(\n",
    "        format=\"%(asctime)s - %(levelname)s - %(name)s -   %(message)s\",\n",
    "        datefmt=\"%m/%d/%Y %H:%M:%S\",\n",
    "        level=logging.INFO if args.local_rank in [-1, 0] else logging.WARN,\n",
    "    )\n",
    "    logger.warning(\n",
    "        \"Process rank: %s, device: %s, n_gpu: %s, distributed training: %s, 16-bits training: %s\",\n",
    "        args.local_rank,\n",
    "        device,\n",
    "        args.n_gpu,\n",
    "        bool(args.local_rank != -1),\n",
    "        args.fp16,\n",
    "    )\n",
    "\n",
    "    # Set seed\n",
    "    set_seed(args)\n",
    "\n",
    "    config = AutoConfig.from_pretrained(args.config_name, cache_dir=args.cache_dir)\n",
    "    tokenizer = AutoTokenizer.from_pretrained(args.tokenizer_name, cache_dir=args.cache_dir)\n",
    "    model = AutoModelWithLMHead.from_pretrained(\n",
    "        args.model_name_or_path,\n",
    "        from_tf=False,\n",
    "        config=config,\n",
    "        cache_dir=args.cache_dir,\n",
    "    )\n",
    "    model.to(args.device)\n",
    "    \n",
    "    logger.info(\"Training/evaluation parameters %s\", args)\n",
    "\n",
    "    # Training\n",
    "    if args.do_train:\n",
    "        train_dataset = load_and_cache_examples(args, tokenizer, df_trn, df_val, evaluate=False)\n",
    "\n",
    "        global_step, tr_loss = train(args, train_dataset, model, tokenizer)\n",
    "        logger.info(\" global_step = %s, average loss = %s\", global_step, tr_loss)\n",
    "\n",
    "    # Saving best-practices: if you use save_pretrained for the model and tokenizer, you can reload them using from_pretrained()\n",
    "    if args.do_train:\n",
    "        # Create output directory if needed\n",
    "        os.makedirs(args.output_dir, exist_ok=True)\n",
    "\n",
    "        logger.info(\"Saving model checkpoint to %s\", args.output_dir)\n",
    "        # Save a trained model, configuration and tokenizer using `save_pretrained()`.\n",
    "        # They can then be reloaded using `from_pretrained()`\n",
    "        model_to_save = (\n",
    "            model.module if hasattr(model, \"module\") else model\n",
    "        )  # Take care of distributed/parallel training\n",
    "        model_to_save.save_pretrained(args.output_dir)\n",
    "        tokenizer.save_pretrained(args.output_dir)\n",
    "\n",
    "        # Good practice: save your training arguments together with the trained model\n",
    "        torch.save(args, os.path.join(args.output_dir, \"training_args.bin\"))\n",
    "\n",
    "        # Load a trained model and vocabulary that you have fine-tuned\n",
    "        model = AutoModelWithLMHead.from_pretrained(args.output_dir)\n",
    "        tokenizer = AutoTokenizer.from_pretrained(args.output_dir)\n",
    "        model.to(args.device)\n",
    "\n",
    "    # Evaluation\n",
    "    results = {}\n",
    "    if args.do_eval and args.local_rank in [-1, 0]:\n",
    "        checkpoints = [args.output_dir]\n",
    "        if args.eval_all_checkpoints:\n",
    "            checkpoints = list(\n",
    "                os.path.dirname(c) for c in sorted(glob.glob(args.output_dir + \"/**/\" + WEIGHTS_NAME, recursive=True))\n",
    "            )\n",
    "            logging.getLogger(\"transformers.modeling_utils\").setLevel(logging.WARN)  # Reduce logging\n",
    "        logger.info(\"Evaluate the following checkpoints: %s\", checkpoints)\n",
    "        for checkpoint in checkpoints:\n",
    "            global_step = checkpoint.split(\"-\")[-1] if len(checkpoints) > 1 else \"\"\n",
    "            prefix = checkpoint.split(\"/\")[-1] if checkpoint.find(\"checkpoint\") != -1 else \"\"\n",
    "\n",
    "            model = AutoModelWithLMHead.from_pretrained(checkpoint)\n",
    "            model.to(args.device)\n",
    "            result = evaluate(args, model, tokenizer, df_trn, df_val, prefix=prefix)\n",
    "            result = dict((k + \"_{}\".format(global_step), v) for k, v in result.items())\n",
    "            results.update(result)\n",
    "\n",
    "    return results"
   ]
  },
  {
   "cell_type": "code",
   "execution_count": 13,
   "id": "3f388711-3456-4bec-8b8d-b15872a04104",
   "metadata": {},
   "outputs": [
    {
     "data": {
      "text/html": [
       "<div>\n",
       "<style scoped>\n",
       "    .dataframe tbody tr th:only-of-type {\n",
       "        vertical-align: middle;\n",
       "    }\n",
       "\n",
       "    .dataframe tbody tr th {\n",
       "        vertical-align: top;\n",
       "    }\n",
       "\n",
       "    .dataframe thead th {\n",
       "        text-align: right;\n",
       "    }\n",
       "</style>\n",
       "<table border=\"1\" class=\"dataframe\">\n",
       "  <thead>\n",
       "    <tr style=\"text-align: right;\">\n",
       "      <th></th>\n",
       "      <th>response</th>\n",
       "      <th>context</th>\n",
       "      <th>context/0</th>\n",
       "      <th>context/1</th>\n",
       "      <th>context/2</th>\n",
       "      <th>context/3</th>\n",
       "      <th>context/4</th>\n",
       "      <th>context/5</th>\n",
       "    </tr>\n",
       "  </thead>\n",
       "  <tbody>\n",
       "    <tr>\n",
       "      <th>4</th>\n",
       "      <td>Ha lol God damn I don't even know Vanessa that...</td>\n",
       "      <td>10,000%</td>\n",
       "      <td>Vanessa shared this with me</td>\n",
       "      <td>Proof that you’re not ugly, you’re just poor</td>\n",
       "      <td>now is sexy again. tbf I blame his barber</td>\n",
       "      <td>I feel like TB12 is one of those guys that was...</td>\n",
       "      <td>Scott, time for you to get on this trend</td>\n",
       "      <td>Will you know I can't click the link! Have you...</td>\n",
       "    </tr>\n",
       "    <tr>\n",
       "      <th>431</th>\n",
       "      <td>Eli &amp; Pete Davidson Hang at Pete's Apartment &amp;...</td>\n",
       "      <td>Instagram Account | The Eli Manning Show</td>\n",
       "      <td>Eli &amp; Pete Davidson Hang at Pete's Apartment &amp;...</td>\n",
       "      <td>4 Replies</td>\n",
       "      <td>(Never noticed how we did it in the past)</td>\n",
       "      <td>Wait commish - shouldn’t division winner get t...</td>\n",
       "      <td>club members left</td>\n",
       "      <td>the back of it and showed bunch of old random ...</td>\n",
       "    </tr>\n",
       "    <tr>\n",
       "      <th>429</th>\n",
       "      <td>Eli &amp; Pete Davidson Hang at Pete's Apartment &amp;...</td>\n",
       "      <td>4 Replies</td>\n",
       "      <td>(Never noticed how we did it in the past)</td>\n",
       "      <td>Wait commish - shouldn’t division winner get t...</td>\n",
       "      <td>club members left</td>\n",
       "      <td>the back of it and showed bunch of old random ...</td>\n",
       "      <td>Kinda cool. Korean dude who owned it took us t...</td>\n",
       "      <td>used to be some NOLA men’s club called Montaigne</td>\n",
       "    </tr>\n",
       "    <tr>\n",
       "      <th>160</th>\n",
       "      <td>Tim giving a seminar on exits?!</td>\n",
       "      <td>Will up?!</td>\n",
       "      <td>I like this!</td>\n",
       "      <td>in the facemask. *boop*</td>\n",
       "      <td>I think the next best thing to a doink is a bo...</td>\n",
       "      <td>Think I sat in line for like an hour for it sw...</td>\n",
       "      <td>One of three coffee mugs I own</td>\n",
       "      <td>The Vikes are playing, so that’s a guarantee</td>\n",
       "    </tr>\n",
       "    <tr>\n",
       "      <th>116</th>\n",
       "      <td>Buffstreamz</td>\n",
       "      <td>This must be a dream because Will is awake bef...</td>\n",
       "      <td>I had a dream last night that there would be a...</td>\n",
       "      <td>Tough news for Ryan so close to season kickoff</td>\n",
       "      <td>There goes Ryan’s #1 pick</td>\n",
       "      <td>But mostly just infinite rage bc I’m Jack of a...</td>\n",
       "      <td>Also highlighting they haven’t been able to ho...</td>\n",
       "      <td>seems a bit more difficult now. But I’m close....</td>\n",
       "    </tr>\n",
       "  </tbody>\n",
       "</table>\n",
       "</div>"
      ],
      "text/plain": [
       "                                              response  \\\n",
       "4    Ha lol God damn I don't even know Vanessa that...   \n",
       "431  Eli & Pete Davidson Hang at Pete's Apartment &...   \n",
       "429  Eli & Pete Davidson Hang at Pete's Apartment &...   \n",
       "160                    Tim giving a seminar on exits?!   \n",
       "116                                        Buffstreamz   \n",
       "\n",
       "                                               context  \\\n",
       "4                                              10,000%   \n",
       "431           Instagram Account | The Eli Manning Show   \n",
       "429                                          4 Replies   \n",
       "160                                          Will up?!   \n",
       "116  This must be a dream because Will is awake bef...   \n",
       "\n",
       "                                             context/0  \\\n",
       "4                          Vanessa shared this with me   \n",
       "431  Eli & Pete Davidson Hang at Pete's Apartment &...   \n",
       "429          (Never noticed how we did it in the past)   \n",
       "160                                       I like this!   \n",
       "116  I had a dream last night that there would be a...   \n",
       "\n",
       "                                             context/1  \\\n",
       "4         Proof that you’re not ugly, you’re just poor   \n",
       "431                                          4 Replies   \n",
       "429  Wait commish - shouldn’t division winner get t...   \n",
       "160                            in the facemask. *boop*   \n",
       "116     Tough news for Ryan so close to season kickoff   \n",
       "\n",
       "                                             context/2  \\\n",
       "4            now is sexy again. tbf I blame his barber   \n",
       "431          (Never noticed how we did it in the past)   \n",
       "429                                  club members left   \n",
       "160  I think the next best thing to a doink is a bo...   \n",
       "116                          There goes Ryan’s #1 pick   \n",
       "\n",
       "                                             context/3  \\\n",
       "4    I feel like TB12 is one of those guys that was...   \n",
       "431  Wait commish - shouldn’t division winner get t...   \n",
       "429  the back of it and showed bunch of old random ...   \n",
       "160  Think I sat in line for like an hour for it sw...   \n",
       "116  But mostly just infinite rage bc I’m Jack of a...   \n",
       "\n",
       "                                             context/4  \\\n",
       "4             Scott, time for you to get on this trend   \n",
       "431                                  club members left   \n",
       "429  Kinda cool. Korean dude who owned it took us t...   \n",
       "160                     One of three coffee mugs I own   \n",
       "116  Also highlighting they haven’t been able to ho...   \n",
       "\n",
       "                                             context/5  \n",
       "4    Will you know I can't click the link! Have you...  \n",
       "431  the back of it and showed bunch of old random ...  \n",
       "429   used to be some NOLA men’s club called Montaigne  \n",
       "160       The Vikes are playing, so that’s a guarantee  \n",
       "116  seems a bit more difficult now. But I’m close....  "
      ]
     },
     "execution_count": 13,
     "metadata": {},
     "output_type": "execute_result"
    }
   ],
   "source": [
    "trn_df, val_df = train_test_split(df, test_size = 0.1)\n",
    "trn_df.head()"
   ]
  },
  {
   "cell_type": "code",
   "execution_count": 16,
   "id": "b652c67b-598c-4394-8a58-ed67b950dd69",
   "metadata": {},
   "outputs": [
    {
     "name": "stderr",
     "output_type": "stream",
     "text": [
      "12/30/2022 10:56:44 - WARNING - __main__ -   Process rank: -1, device: cuda, n_gpu: 1, distributed training: False, 16-bits training: False\n",
      "12/30/2022 10:56:46 - INFO - __main__ -   Training/evaluation parameters <__main__.Args object at 0x7f063446ff10>\n",
      "12/30/2022 10:56:46 - INFO - __main__ -   Creating features from dataset file at cached\n",
      "12/30/2022 10:56:46 - INFO - __main__ -   Saving features into cached file cached/gpt2_cached_lm_512\n",
      "12/30/2022 10:56:46 - INFO - __main__ -   ***** Running training *****\n",
      "12/30/2022 10:56:46 - INFO - __main__ -     Num examples = 445\n",
      "12/30/2022 10:56:46 - INFO - __main__ -     Num Epochs = 3\n",
      "12/30/2022 10:56:46 - INFO - __main__ -     Instantaneous batch size per GPU = 4\n",
      "12/30/2022 10:56:46 - INFO - __main__ -     Total train batch size (w. parallel, distributed & accumulation) = 4\n",
      "12/30/2022 10:56:46 - INFO - __main__ -     Gradient Accumulation steps = 1\n",
      "12/30/2022 10:56:46 - INFO - __main__ -     Total optimization steps = 333\n"
     ]
    },
    {
     "data": {
      "application/vnd.jupyter.widget-view+json": {
       "model_id": "0a2f4d84472c4e13ae28240d681edda8",
       "version_major": 2,
       "version_minor": 0
      },
      "text/plain": [
       "Epoch:   0%|          | 0/3 [00:00<?, ?it/s]"
      ]
     },
     "metadata": {},
     "output_type": "display_data"
    },
    {
     "data": {
      "application/vnd.jupyter.widget-view+json": {
       "model_id": "4f2deb3b5e8940309c474da288e3223a",
       "version_major": 2,
       "version_minor": 0
      },
      "text/plain": [
       "Iteration:   0%|          | 0/111 [00:00<?, ?it/s]"
      ]
     },
     "metadata": {},
     "output_type": "display_data"
    },
    {
     "data": {
      "application/vnd.jupyter.widget-view+json": {
       "model_id": "3c13b4b3a4f747288fe124e959842ec7",
       "version_major": 2,
       "version_minor": 0
      },
      "text/plain": [
       "Iteration:   0%|          | 0/111 [00:00<?, ?it/s]"
      ]
     },
     "metadata": {},
     "output_type": "display_data"
    },
    {
     "data": {
      "application/vnd.jupyter.widget-view+json": {
       "model_id": "875f3459988343d98b24b452ddb7f16c",
       "version_major": 2,
       "version_minor": 0
      },
      "text/plain": [
       "Iteration:   0%|          | 0/111 [00:00<?, ?it/s]"
      ]
     },
     "metadata": {},
     "output_type": "display_data"
    },
    {
     "name": "stderr",
     "output_type": "stream",
     "text": [
      "12/30/2022 10:57:36 - INFO - __main__ -    global_step = 333, average loss = 3.263636111855149\n",
      "12/30/2022 10:57:36 - INFO - __main__ -   Saving model checkpoint to output-small\n",
      "12/30/2022 10:57:40 - INFO - __main__ -   Evaluate the following checkpoints: ['output-small']\n",
      "12/30/2022 10:57:41 - INFO - __main__ -   Creating features from dataset file at cached\n",
      "12/30/2022 10:57:41 - INFO - __main__ -   Saving features into cached file cached/gpt2_cached_lm_512\n",
      "12/30/2022 10:57:41 - INFO - __main__ -   ***** Running evaluation  *****\n",
      "12/30/2022 10:57:41 - INFO - __main__ -     Num examples = 50\n",
      "12/30/2022 10:57:41 - INFO - __main__ -     Batch size = 4\n"
     ]
    },
    {
     "data": {
      "application/vnd.jupyter.widget-view+json": {
       "model_id": "9898cec12a904d33a56e88e65be7702f",
       "version_major": 2,
       "version_minor": 0
      },
      "text/plain": [
       "Evaluating:   0%|          | 0/12 [00:00<?, ?it/s]"
      ]
     },
     "metadata": {},
     "output_type": "display_data"
    },
    {
     "name": "stderr",
     "output_type": "stream",
     "text": [
      "12/30/2022 10:57:42 - INFO - __main__ -   ***** Eval results  *****\n",
      "12/30/2022 10:57:42 - INFO - __main__ -     perplexity = tensor(11.2501)\n"
     ]
    },
    {
     "data": {
      "text/plain": [
       "{'perplexity_': tensor(11.2501)}"
      ]
     },
     "execution_count": 16,
     "metadata": {},
     "output_type": "execute_result"
    }
   ],
   "source": [
    "main(trn_df, val_df)"
   ]
  },
  {
   "cell_type": "code",
   "execution_count": null,
   "id": "235fbe3f-81bf-4959-b952-f173f57b5050",
   "metadata": {},
   "outputs": [
    {
     "name": "stdin",
     "output_type": "stream",
     "text": [
      ">> User: hi scott\n"
     ]
    },
    {
     "name": "stderr",
     "output_type": "stream",
     "text": [
      "A decoder-only architecture is being used, but right-padding was detected! For correct generation results, please set `padding_side='left'` when initializing the tokenizer.\n"
     ]
    },
    {
     "name": "stdout",
     "output_type": "stream",
     "text": [
      "<class 'torch.Tensor'>\n",
      "ScottBotAI: Scott’s dad\n"
     ]
    },
    {
     "name": "stdin",
     "output_type": "stream",
     "text": [
      ">> User: is that what you like saying?\n"
     ]
    },
    {
     "name": "stderr",
     "output_type": "stream",
     "text": [
      "A decoder-only architecture is being used, but right-padding was detected! For correct generation results, please set `padding_side='left'` when initializing the tokenizer.\n"
     ]
    },
    {
     "name": "stdout",
     "output_type": "stream",
     "text": [
      "<class 'torch.Tensor'>\n",
      "ScottBotAI: Scott\n"
     ]
    },
    {
     "name": "stdin",
     "output_type": "stream",
     "text": [
      ">> User: hmm, you just keep saying your name\n"
     ]
    },
    {
     "name": "stderr",
     "output_type": "stream",
     "text": [
      "A decoder-only architecture is being used, but right-padding was detected! For correct generation results, please set `padding_side='left'` when initializing the tokenizer.\n"
     ]
    },
    {
     "name": "stdout",
     "output_type": "stream",
     "text": [
      "<class 'torch.Tensor'>\n",
      "ScottBotAI: I’ve got a bunch of guys who are really good at that\n"
     ]
    },
    {
     "name": "stdin",
     "output_type": "stream",
     "text": [
      ">> User: do you like football\n"
     ]
    },
    {
     "name": "stderr",
     "output_type": "stream",
     "text": [
      "A decoder-only architecture is being used, but right-padding was detected! For correct generation results, please set `padding_side='left'` when initializing the tokenizer.\n"
     ]
    },
    {
     "name": "stdout",
     "output_type": "stream",
     "text": [
      "<class 'torch.Tensor'>\n",
      "ScottBotAI: What are you guys doing today?\n"
     ]
    },
    {
     "name": "stdin",
     "output_type": "stream",
     "text": [
      ">> User: do you like pb\n"
     ]
    },
    {
     "name": "stderr",
     "output_type": "stream",
     "text": [
      "A decoder-only architecture is being used, but right-padding was detected! For correct generation results, please set `padding_side='left'` when initializing the tokenizer.\n"
     ]
    },
    {
     "name": "stdout",
     "output_type": "stream",
     "text": [
      "<class 'torch.Tensor'>\n",
      "ScottBotAI: I think you’re thinking of Tim\n"
     ]
    }
   ],
   "source": [
    "tokenizer = AutoTokenizer.from_pretrained('microsoft/DialoGPT-small', padding_side='right')\n",
    "model = AutoModelWithLMHead.from_pretrained('output-small')\n",
    "\n",
    "# Let's chat for 5 lines\n",
    "for step in range(5):\n",
    "    # encode the new user input, add the eos_token and return a tensor in Pytorch\n",
    "    new_user_input_ids = tokenizer.encode(input(\">> User:\") + tokenizer.eos_token, return_tensors='pt')\n",
    "    # print(type(new_user_input_ids))\n",
    "\n",
    "    # append the new user input tokens to the chat history\n",
    "    bot_input_ids = torch.cat([chat_history_ids, new_user_input_ids], dim=-1) if step > 0 else new_user_input_ids\n",
    "    # print(type(bot_input_ids))\n",
    "\n",
    "    # generated a response while limiting the total chat history to 1000 tokens, \n",
    "    chat_history_ids = model.generate(\n",
    "        bot_input_ids, max_length=200,\n",
    "        pad_token_id=tokenizer.eos_token_id,  \n",
    "        no_repeat_ngram_size=3,       \n",
    "        do_sample=True, \n",
    "        top_k=100, \n",
    "        top_p=0.7,\n",
    "        temperature = 0.8\n",
    "    )\n",
    "    \n",
    "    # pretty print last ouput tokens from bot\n",
    "    print(\"ScottBotAI: {}\".format(tokenizer.decode(chat_history_ids[:, bot_input_ids.shape[-1]:][0], skip_special_tokens=True)))"
   ]
  },
  {
   "cell_type": "code",
   "execution_count": null,
   "id": "5bcb1d16-5ae8-479f-a207-ac9ab0941a88",
   "metadata": {},
   "outputs": [],
   "source": [
    "tokenizer.decode(chat_history_ids[:, bot_input_ids.shape[-1]:][0])"
   ]
  },
  {
   "cell_type": "code",
   "execution_count": 61,
   "id": "a96b00af-43e7-4593-9731-500e3b8925e5",
   "metadata": {},
   "outputs": [
    {
     "data": {
      "text/plain": [
       "'hello scott<|endoftext|>Scott has a thing for people who are really bad at kicking<|endoftext|>'"
      ]
     },
     "execution_count": 61,
     "metadata": {},
     "output_type": "execute_result"
    }
   ],
   "source": [
    "tokenizer.decode(chat_history_ids[0])"
   ]
  },
  {
   "cell_type": "code",
   "execution_count": 54,
   "id": "3801af3c-2f0a-4cfa-af66-365b2c9ebf67",
   "metadata": {},
   "outputs": [
    {
     "data": {
      "text/plain": [
       "tensor([[31373,   629,  1252, 50256]])"
      ]
     },
     "execution_count": 54,
     "metadata": {},
     "output_type": "execute_result"
    }
   ],
   "source": [
    "bot_input_ids"
   ]
  },
  {
   "cell_type": "code",
   "execution_count": 59,
   "id": "d5a1ea9b-76e9-469a-af2d-a979d86367bb",
   "metadata": {},
   "outputs": [
    {
     "data": {
      "text/plain": [
       "tensor([[31373,   629,  1252, 50256, 19040,   468,   257,  1517,   329,   661,\n",
       "           508,   389,  1107,  2089,   379, 17997, 50256]])"
      ]
     },
     "execution_count": 59,
     "metadata": {},
     "output_type": "execute_result"
    }
   ],
   "source": [
    "chat_history_ids"
   ]
  },
  {
   "cell_type": "code",
   "execution_count": 35,
   "id": "b56e5a5c-aae9-4c39-963b-928753753637",
   "metadata": {},
   "outputs": [
    {
     "data": {
      "text/plain": [
       "tensor([[31373, 50256]])"
      ]
     },
     "execution_count": 35,
     "metadata": {},
     "output_type": "execute_result"
    }
   ],
   "source": [
    "new_user_input_ids = tokenizer.encode('hello' + tokenizer.eos_token, return_tensors='pt')\n",
    "new_user_input_ids"
   ]
  },
  {
   "cell_type": "code",
   "execution_count": 36,
   "id": "ac82cfa5-a025-4fc4-819a-1ad3732d0a6b",
   "metadata": {},
   "outputs": [
    {
     "data": {
      "text/plain": [
       "tensor([[31373,   629,  1252, 50256, 10814,  4746, 50256, 10919,   389,   345,\n",
       "          1804,    30, 50256, 19040,   447,   247,    82,  9955, 50256,  5562,\n",
       "          5238,  5210,    11,  1521,   389,   345,  1804,   326,    30, 50256,\n",
       "            40,   447,   247,    76,  1016,   284,  3996, 50256,  4919,   318,\n",
       "           262,  6193,   625,   612,    30, 50256,   818,   262,  3329, 50256,\n",
       "         31373, 50256]])"
      ]
     },
     "execution_count": 36,
     "metadata": {},
     "output_type": "execute_result"
    }
   ],
   "source": [
    "bot_input_ids = torch.cat([chat_history_ids, new_user_input_ids], dim=-1) if step > 0 else new_user_input_ids\n",
    "bot_input_ids"
   ]
  },
  {
   "cell_type": "code",
   "execution_count": 34,
   "id": "a2e3033c-7c96-4a2a-b0c1-9384b77b7abb",
   "metadata": {},
   "outputs": [
    {
     "name": "stderr",
     "output_type": "stream",
     "text": [
      "A decoder-only architecture is being used, but right-padding was detected! For correct generation results, please set `padding_side='left'` when initializing the tokenizer.\n"
     ]
    },
    {
     "data": {
      "text/plain": [
       "tensor([[31373,   629,  1252, 50256, 10814,  4746, 50256, 10919,   389,   345,\n",
       "          1804,    30, 50256, 19040,   447,   247,    82,  9955, 50256,  5562,\n",
       "          5238,  5210,    11,  1521,   389,   345,  1804,   326,    30, 50256,\n",
       "            40,   447,   247,    76,  1016,   284,  3996, 50256,  4919,   318,\n",
       "           262,  6193,   625,   612,    30, 50256,   818,   262,  3329, 50256]])"
      ]
     },
     "execution_count": 34,
     "metadata": {},
     "output_type": "execute_result"
    }
   ],
   "source": [
    "chat_history_ids = model.generate(\n",
    "    bot_input_ids, max_length=200,\n",
    "    pad_token_id=tokenizer.eos_token_id,  \n",
    "    no_repeat_ngram_size=3,       \n",
    "    do_sample=True, \n",
    "    top_k=100, \n",
    "    top_p=0.7,\n",
    "    temperature = 0.8\n",
    ")\n",
    "\n",
    "chat_history_ids"
   ]
  },
  {
   "cell_type": "code",
   "execution_count": 27,
   "id": "c8521dc2-2600-4396-b0bd-76a9e3c678b5",
   "metadata": {},
   "outputs": [
    {
     "data": {
      "text/plain": [
       "'The real winner of this game is the guy who started it'"
      ]
     },
     "execution_count": 27,
     "metadata": {},
     "output_type": "execute_result"
    }
   ],
   "source": [
    "tokenizer.decode(chat_history_ids[:, bot_input_ids.shape[-1]:][0], skip_special_tokens=True)"
   ]
  },
  {
   "cell_type": "code",
   "execution_count": 63,
   "id": "080351ea-033b-41e1-966f-197f05f60f05",
   "metadata": {},
   "outputs": [
    {
     "data": {
      "text/plain": [
       "50256"
      ]
     },
     "execution_count": 63,
     "metadata": {},
     "output_type": "execute_result"
    }
   ],
   "source": [
    "tokenizer.eos_token_id"
   ]
  },
  {
   "cell_type": "code",
   "execution_count": 113,
   "id": "c648765a-46fc-4618-b460-e28d0fa3d687",
   "metadata": {},
   "outputs": [
    {
     "name": "stdout",
     "output_type": "stream",
     "text": [
      "Running on local URL:  http://127.0.0.1:7910\n",
      "\n",
      "To create a public link, set `share=True` in `launch()`.\n"
     ]
    },
    {
     "data": {
      "text/html": [
       "<div><iframe src=\"http://127.0.0.1:7910/\" width=\"100%\" height=\"500\" allow=\"autoplay; camera; microphone; clipboard-read; clipboard-write;\" frameborder=\"0\" allowfullscreen></iframe></div>"
      ],
      "text/plain": [
       "<IPython.core.display.HTML object>"
      ]
     },
     "metadata": {},
     "output_type": "display_data"
    },
    {
     "name": "stderr",
     "output_type": "stream",
     "text": [
      "A decoder-only architecture is being used, but right-padding was detected! For correct generation results, please set `padding_side='left'` when initializing the tokenizer.\n"
     ]
    },
    {
     "name": "stdout",
     "output_type": "stream",
     "text": [
      "torch.Size([1, 4])\n",
      "tensor([[31373,   629,  1252, 50256, 19040,   318,   736,  5156, 50256]])\n",
      "Scott is back baby\n"
     ]
    },
    {
     "name": "stderr",
     "output_type": "stream",
     "text": [
      "A decoder-only architecture is being used, but right-padding was detected! For correct generation results, please set `padding_side='left'` when initializing the tokenizer.\n"
     ]
    },
    {
     "name": "stdout",
     "output_type": "stream",
     "text": [
      "torch.Size([1, 8])\n",
      "tensor([[10919,   466,   345,  1612,   416,   326,    30, 50256,    40,   447,\n",
      "           247,    76,  2495,  1654,  4746,   447,   247,    82,  9955,   318,\n",
      "          4746,   447,   251,    82,  6478, 50256]])\n",
      "I’m pretty sure Scott’s dad is Scott”s boss\n"
     ]
    }
   ],
   "source": [
    "import gradio as gr\n",
    "\n",
    "tokenizer = AutoTokenizer.from_pretrained('microsoft/DialoGPT-small', padding_side='right')\n",
    "model = AutoModelWithLMHead.from_pretrained('output-small')\n",
    "\n",
    "\n",
    "def chat(message, history=[]):\n",
    "            \n",
    "    inputs = tokenizer.encode(message + tokenizer.eos_token, return_tensors=\"pt\")\n",
    "    \n",
    "    print(inputs.shape)\n",
    "            \n",
    "    reply_ids = model.generate(\n",
    "                        inputs, max_length=1000,\n",
    "                        pad_token_id=tokenizer.eos_token_id,  \n",
    "                        no_repeat_ngram_size=3,       \n",
    "                        do_sample=True, \n",
    "                        top_k=100, \n",
    "                        top_p=0.7,\n",
    "                        temperature = 0.8\n",
    "                        )\n",
    "    \n",
    "    print(reply_ids)\n",
    "    \n",
    "    response = tokenizer.decode(reply_ids[:,inputs.shape[1]:][0], skip_special_tokens=True)\n",
    "\n",
    "    print(response)\n",
    "        \n",
    "    history.append((message, response))\n",
    "    \n",
    "    return history, history\n",
    "         \n",
    "\n",
    "# chatbot = gr.Chatbot().style(color_map=(\"green\", \"pink\"))\n",
    "\n",
    "demo = gr.Interface(\n",
    "    fn=chat,\n",
    "    inputs = [\"text\", \"state\"],\n",
    "    outputs = ['chatbot', \"state\"],\n",
    "    allow_flagging=\"never\",\n",
    "        ).launch()\n",
    "\n"
   ]
  },
  {
   "cell_type": "code",
   "execution_count": 101,
   "id": "09245e14-0de7-4582-aa53-964cc8f3c17c",
   "metadata": {},
   "outputs": [
    {
     "data": {
      "text/plain": [
       "50256"
      ]
     },
     "execution_count": 101,
     "metadata": {},
     "output_type": "execute_result"
    }
   ],
   "source": [
    "tokenizer.eos_token_id"
   ]
  },
  {
   "cell_type": "code",
   "execution_count": 75,
   "id": "e261c0e9-bde9-45cb-ad72-ff243ee15220",
   "metadata": {},
   "outputs": [
    {
     "name": "stderr",
     "output_type": "stream",
     "text": [
      "A decoder-only architecture is being used, but right-padding was detected! For correct generation results, please set `padding_side='left'` when initializing the tokenizer.\n"
     ]
    },
    {
     "data": {
      "text/plain": [
       "'I think you forgot Scott'"
      ]
     },
     "execution_count": 75,
     "metadata": {},
     "output_type": "execute_result"
    }
   ],
   "source": [
    "bot_input_ids = torch.tensor([[20342,   629,  1252, 50256]])\n",
    "\n",
    "chat_history_ids = model.generate(\n",
    "                        bot_input_ids, max_length=200,\n",
    "                        pad_token_id=tokenizer.eos_token_id,  \n",
    "                        no_repeat_ngram_size=3,       \n",
    "                        do_sample=True, \n",
    "                        top_k=100, \n",
    "                        top_p=0.7,\n",
    "                        temperature = 0.8\n",
    "                        )\n",
    "\n",
    "message = tokenizer.decode(chat_history_ids[:, bot_input_ids.shape[-1]:][0], skip_special_tokens=True)\n",
    "\n",
    "message"
   ]
  },
  {
   "cell_type": "code",
   "execution_count": 47,
   "id": "f9343e6e-7d96-421e-89d5-5e1634da2ba0",
   "metadata": {},
   "outputs": [
    {
     "name": "stdout",
     "output_type": "stream",
     "text": [
      "Running on local URL:  http://127.0.0.1:7863\n",
      "\n",
      "To create a public link, set `share=True` in `launch()`.\n"
     ]
    },
    {
     "data": {
      "text/html": [
       "<div><iframe src=\"http://127.0.0.1:7863/\" width=\"100%\" height=\"500\" allow=\"autoplay; camera; microphone; clipboard-read; clipboard-write;\" frameborder=\"0\" allowfullscreen></iframe></div>"
      ],
      "text/plain": [
       "<IPython.core.display.HTML object>"
      ]
     },
     "metadata": {},
     "output_type": "display_data"
    },
    {
     "data": {
      "text/plain": []
     },
     "execution_count": 47,
     "metadata": {},
     "output_type": "execute_result"
    },
    {
     "name": "stdout",
     "output_type": "stream",
     "text": [
      "[]\n",
      "[('<p>hello</p>\\n', \"<p>I don't know</p>\\n\")]\n",
      "[('<p>hello</p>\\n', \"<p>I don't know</p>\\n\"), ('<p>but whatever</p>\\n', \"<p>I don't know</p>\\n\")]\n",
      "[('<p>hello</p>\\n', \"<p>I don't know</p>\\n\"), ('<p>but whatever</p>\\n', \"<p>I don't know</p>\\n\"), ('<p>great</p>\\n', \"<p>I don't know</p>\\n\")]\n",
      "[('<p>hello</p>\\n', \"<p>I don't know</p>\\n\"), ('<p>but whatever</p>\\n', \"<p>I don't know</p>\\n\"), ('<p>great</p>\\n', \"<p>I don't know</p>\\n\"), ('<p>great</p>\\n', \"<p>I don't know</p>\\n\")]\n"
     ]
    }
   ],
   "source": [
    "import random\n",
    "import gradio as gr\n",
    "\n",
    "def chat(message, history):\n",
    "    history = history or []\n",
    "    print(history)\n",
    "    message = message.lower()\n",
    "    if message.startswith(\"how many\"):\n",
    "        response = random.randint(1, 10)\n",
    "    elif message.startswith(\"how\"):\n",
    "        response = random.choice([\"Great\", \"Good\", \"Okay\", \"Bad\"])\n",
    "    elif message.startswith(\"where\"):\n",
    "        response = random.choice([\"Here\", \"There\", \"Somewhere\"])\n",
    "    else:\n",
    "        response = \"I don't know\"\n",
    "    history.append((message, response))\n",
    "    return history, history\n",
    "\n",
    "chatbot = gr.Chatbot().style(color_map=(\"green\", \"pink\"))\n",
    "demo = gr.Interface(\n",
    "    chat,\n",
    "    [\"text\", \"state\"],\n",
    "    [chatbot, \"state\"],\n",
    "    allow_flagging=\"never\",\n",
    ")\n",
    "demo.launch()"
   ]
  },
  {
   "cell_type": "code",
   "execution_count": null,
   "id": "3b6d4de4-f89a-496c-9ac5-5e01a2edf0e5",
   "metadata": {},
   "outputs": [],
   "source": []
  }
 ],
 "metadata": {
  "kernelspec": {
   "display_name": "Python 3 (ipykernel)",
   "language": "python",
   "name": "python3"
  },
  "language_info": {
   "codemirror_mode": {
    "name": "ipython",
    "version": 3
   },
   "file_extension": ".py",
   "mimetype": "text/x-python",
   "name": "python",
   "nbconvert_exporter": "python",
   "pygments_lexer": "ipython3",
   "version": "3.10.0"
  }
 },
 "nbformat": 4,
 "nbformat_minor": 5
}
